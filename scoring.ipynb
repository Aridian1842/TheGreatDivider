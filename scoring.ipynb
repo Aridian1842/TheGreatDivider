{
 "cells": [
  {
   "cell_type": "code",
   "execution_count": 1,
   "metadata": {
    "collapsed": false
   },
   "outputs": [
    {
     "name": "stderr",
     "output_type": "stream",
     "text": [
      "//anaconda/lib/python2.7/site-packages/matplotlib/__init__.py:872: UserWarning: axes.color_cycle is deprecated and replaced with axes.prop_cycle; please use the latter.\n",
      "  warnings.warn(self.msg_depr % (key, alt_key))\n"
     ]
    }
   ],
   "source": [
    "import numpy as np\n",
    "import pandas as pd\n",
    "import seaborn as sns\n",
    "import matplotlib.pyplot as plt\n",
    "\n",
    "from tqdm import tqdm\n",
    "from sqlalchemy import create_engine\n",
    "\n",
    "from modeling import model, sil_score\n",
    "\n",
    "%matplotlib inline"
   ]
  },
  {
   "cell_type": "markdown",
   "metadata": {},
   "source": [
    "# Scoring functions"
   ]
  },
  {
   "cell_type": "code",
   "execution_count": 2,
   "metadata": {
    "collapsed": true
   },
   "outputs": [],
   "source": [
    "engine = create_engine('postgres://julia@localhost/affiled')"
   ]
  },
  {
   "cell_type": "code",
   "execution_count": 3,
   "metadata": {
    "collapsed": true
   },
   "outputs": [],
   "source": [
    "def score_clusts(model_results):\n",
    "    return np.mean(model_results[0].loc[:100, 'sil_score'])\n",
    "\n",
    "def score_phrase(phrase):\n",
    "    left_results = model(phrase, 1, engine)\n",
    "    right_results = model(phrase, -1, engine)\n",
    "    \n",
    "    if left_results is None or right_results is None:\n",
    "        return None\n",
    "    \n",
    "    left_score = score_clusts(left_results)\n",
    "    right_score = score_clusts(right_results)\n",
    "    \n",
    "    return np.mean([left_score, right_score]), left_score, right_score\n",
    "\n",
    "def score_phrases(phrases):\n",
    "    scores = []\n",
    "    for phrase in tqdm(phrases): \n",
    "        score = score_phrase(phrase)\n",
    "        scores.append(score)\n",
    "        \n",
    "    return scores"
   ]
  },
  {
   "cell_type": "markdown",
   "metadata": {},
   "source": [
    "# Compute scores for sample phrases"
   ]
  },
  {
   "cell_type": "code",
   "execution_count": 4,
   "metadata": {
    "collapsed": true
   },
   "outputs": [],
   "source": [
    "phrases = [\n",
    "    'trump',\n",
    "    'hillary',\n",
    "    'muslim',\n",
    "    'taxes',\n",
    "    'parenthood',\n",
    "    'congress',\n",
    "    'immigration',\n",
    "    'student loans',\n",
    "    'college',\n",
    "    'police',\n",
    "    'security',\n",
    "    'abortion',\n",
    "    'poverty',\n",
    "    'bernie',\n",
    "    'gun control',\n",
    "    'oregon',\n",
    "    'iowa',\n",
    "    'black',\n",
    "    'violence',\n",
    "    'minimum wage',\n",
    "    'isis',\n",
    "    'jobs',\n",
    "    'iran',\n",
    "    'refugee',\n",
    "    'terrorism',\n",
    "    'healthcare'\n",
    "]"
   ]
  },
  {
   "cell_type": "code",
   "execution_count": 5,
   "metadata": {
    "collapsed": false
   },
   "outputs": [
    {
     "name": "stderr",
     "output_type": "stream",
     "text": []
    }
   ],
   "source": [
    "my_scores = score_phrases(phrases)"
   ]
  },
  {
   "cell_type": "code",
   "execution_count": 6,
   "metadata": {
    "collapsed": false
   },
   "outputs": [
    {
     "data": {
      "text/plain": [
       "count    26.000000\n",
       "mean      0.236092\n",
       "std       0.066833\n",
       "min       0.129066\n",
       "25%       0.195089\n",
       "50%       0.222737\n",
       "75%       0.256300\n",
       "max       0.388586\n",
       "dtype: float64"
      ]
     },
     "execution_count": 6,
     "metadata": {},
     "output_type": "execute_result"
    }
   ],
   "source": [
    "overall, left, right = zip(*my_scores)\n",
    "pd.Series(overall).describe()"
   ]
  },
  {
   "cell_type": "code",
   "execution_count": 7,
   "metadata": {
    "collapsed": false
   },
   "outputs": [
    {
     "data": {
      "text/plain": [
       "[]"
      ]
     },
     "execution_count": 7,
     "metadata": {},
     "output_type": "execute_result"
    },
    {
     "data": {
      "image/png": "[encoded data removed]",
      "text/plain": [
       "<matplotlib.figure.Figure at 0x113d48290>"
      ]
     },
     "metadata": {},
     "output_type": "display_data"
    }
   ],
   "source": [
    "p=sns.distplot(overall, norm_hist=False, bins=10)\n",
    "p.axes.get_yaxis().set_ticks([])"
   ]
  },
  {
   "cell_type": "code",
   "execution_count": 8,
   "metadata": {
    "collapsed": false
   },
   "outputs": [
    {
     "name": "stdout",
     "output_type": "stream",
     "text": [
      "count    26.000000\n",
      "mean      0.243909\n",
      "std       0.111445\n",
      "min       0.141276\n",
      "25%       0.178900\n",
      "50%       0.212979\n",
      "75%       0.264421\n",
      "max       0.584634\n",
      "dtype: float64\n",
      "count    26.000000\n",
      "mean      0.228274\n",
      "std       0.078959\n",
      "min       0.082023\n",
      "25%       0.192266\n",
      "50%       0.216042\n",
      "75%       0.245174\n",
      "max       0.535793\n",
      "dtype: float64\n"
     ]
    }
   ],
   "source": [
    "print pd.Series(left).describe()\n",
    "print pd.Series(right).describe()"
   ]
  },
  {
   "cell_type": "code",
   "execution_count": 9,
   "metadata": {
    "collapsed": false
   },
   "outputs": [
    {
     "data": {
      "text/plain": [
       "[]"
      ]
     },
     "execution_count": 9,
     "metadata": {},
     "output_type": "execute_result"
    },
    {
     "data": {
      "image/png": "[encoded data removed]",
      "text/plain": [
       "<matplotlib.figure.Figure at 0x11372edd0>"
      ]
     },
     "metadata": {},
     "output_type": "display_data"
    }
   ],
   "source": [
    "p=sns.distplot(left, norm_hist=False, bins=10)\n",
    "sns.distplot(right, norm_hist=False, bins=10)\n",
    "p.axes.get_yaxis().set_ticks([])"
   ]
  },
  {
   "cell_type": "markdown",
   "metadata": {},
   "source": [
    "# Compare to random"
   ]
  },
  {
   "cell_type": "code",
   "execution_count": 15,
   "metadata": {
    "collapsed": true
   },
   "outputs": [],
   "source": [
    "def random_model(phrase, affil, smart=True):\n",
    "    model_results = model(phrase, affil, engine, fit=False)\n",
    "    \n",
    "    if model_results is None:\n",
    "        return None\n",
    "\n",
    "    original_sims = model_results\n",
    "    \n",
    "    if smart:\n",
    "        inds = range(original_sims.shape[0])\n",
    "        np.random.shuffle(inds)\n",
    "        \n",
    "        keyword_inds = inds[:100]\n",
    "        sims = original_sims[keyword_inds, :][:, keyword_inds]\n",
    "    \n",
    "        n = np.random.choice([10, 15, 20])\n",
    "        \n",
    "    else:\n",
    "        sims = original_sims\n",
    "        n = np.random.randint(2, sims.shape[0])\n",
    "        \n",
    "    labels = [np.random.choice(range(n)) for _ in range(sims.shape[0])]\n",
    "    \n",
    "    sil_scores = sil_score(sims, labels)\n",
    "    \n",
    "    return np.mean(sil_scores)"
   ]
  },
  {
   "cell_type": "code",
   "execution_count": 16,
   "metadata": {
    "collapsed": false
   },
   "outputs": [],
   "source": [
    "def randomly_score_phrases(phrases, smart, n_iters = 50):\n",
    "    scores = []\n",
    "    for phrase in tqdm(phrases):\n",
    "        phrase_scores = []\n",
    "        for _ in range(n_iters):\n",
    "            phrase_scores.append(np.mean([random_model(phrase, affil, smart) \n",
    "                                             for affil in [-1, 1]]))\n",
    "        scores.append(np.mean(phrase_scores))\n",
    "    return scores"
   ]
  },
  {
   "cell_type": "code",
   "execution_count": 17,
   "metadata": {
    "collapsed": false
   },
   "outputs": [
    {
     "name": "stderr",
     "output_type": "stream",
     "text": []
    }
   ],
   "source": [
    "np.random.seed(5329505)\n",
    "random_scores_stupid = randomly_score_phrases(phrases, False)  \n",
    "random_scores_smart = randomly_score_phrases(phrases, True) "
   ]
  },
  {
   "cell_type": "code",
   "execution_count": 47,
   "metadata": {
    "collapsed": false
   },
   "outputs": [
    {
     "data": {
      "text/plain": [
       "count    26.000000\n",
       "mean     -0.584086\n",
       "std       0.078550\n",
       "min      -0.708895\n",
       "25%      -0.623661\n",
       "50%      -0.601384\n",
       "75%      -0.542234\n",
       "max      -0.402421\n",
       "dtype: float64"
      ]
     },
     "execution_count": 47,
     "metadata": {},
     "output_type": "execute_result"
    }
   ],
   "source": [
    "pd.Series(random_scores_stupid).describe()"
   ]
  },
  {
   "cell_type": "code",
   "execution_count": 48,
   "metadata": {
    "collapsed": false
   },
   "outputs": [
    {
     "data": {
      "text/plain": [
       "count    26.000000\n",
       "mean     -0.508473\n",
       "std       0.092489\n",
       "min      -0.684002\n",
       "25%      -0.557316\n",
       "50%      -0.526301\n",
       "75%      -0.452630\n",
       "max      -0.299692\n",
       "dtype: float64"
      ]
     },
     "execution_count": 48,
     "metadata": {},
     "output_type": "execute_result"
    }
   ],
   "source": [
    "pd.Series(random_scores_smart).describe()"
   ]
  },
  {
   "cell_type": "code",
   "execution_count": 37,
   "metadata": {
    "collapsed": false
   },
   "outputs": [
    {
     "data": {
      "text/plain": [
       "[]"
      ]
     },
     "execution_count": 37,
     "metadata": {},
     "output_type": "execute_result"
    },
    {
     "data": {
      "image/png": "[encoded data removed]",
      "text/plain": [
       "<matplotlib.figure.Figure at 0x11567a6d0>"
      ]
     },
     "metadata": {},
     "output_type": "display_data"
    }
   ],
   "source": [
    "plt.figure(1, figsize = (10, 5))\n",
    "p=sns.distplot(my_scores, bins=8)\n",
    "sns.distplot(random_scores_smart, bins=8)\n",
    "sns.distplot(random_scores_stupid, bins=8)\n",
    "p.axes.get_yaxis().set_ticks([])"
   ]
  }
 ],
 "metadata": {
  "kernelspec": {
   "display_name": "Python 2",
   "language": "python",
   "name": "python2"
  },
  "language_info": {
   "codemirror_mode": {
    "name": "ipython",
    "version": 2
   },
   "file_extension": ".py",
   "mimetype": "text/x-python",
   "name": "python",
   "nbconvert_exporter": "python",
   "pygments_lexer": "ipython2",
   "version": "2.7.11"
  }
 },
 "nbformat": 4,
 "nbformat_minor": 0
}
